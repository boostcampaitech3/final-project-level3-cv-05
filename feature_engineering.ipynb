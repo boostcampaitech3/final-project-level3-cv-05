{
 "cells": [
  {
   "cell_type": "markdown",
   "metadata": {},
   "source": [
    "## Import Library"
   ]
  },
  {
   "cell_type": "code",
   "execution_count": 1,
   "metadata": {},
   "outputs": [],
   "source": [
    "import os\n",
    "import json\n",
    "import pandas as pd"
   ]
  },
  {
   "cell_type": "markdown",
   "metadata": {},
   "source": [
    "### Set pandas option"
   ]
  },
  {
   "cell_type": "code",
   "execution_count": 2,
   "metadata": {},
   "outputs": [],
   "source": [
    "pd.set_option('display.max_columns', 100)\n",
    "pd.set_option('display.max.colwidth', 100)"
   ]
  },
  {
   "cell_type": "code",
   "execution_count": 3,
   "metadata": {},
   "outputs": [
    {
     "data": {
      "text/plain": [
       "'/mnt/d/sjeon/BoostCamp_AI_Tech/main_course/Project/workspace/local'"
      ]
     },
     "execution_count": 3,
     "metadata": {},
     "output_type": "execute_result"
    }
   ],
   "source": [
    "os.getcwd()"
   ]
  },
  {
   "cell_type": "markdown",
   "metadata": {},
   "source": [
    "### Set Path"
   ]
  },
  {
   "cell_type": "code",
   "execution_count": 4,
   "metadata": {},
   "outputs": [],
   "source": [
    "WORK_DIR = \"/mnt/d/sjeon/BoostCamp_AI_Tech/main_course/Project/workspace/local\"\n",
    "\n",
    "DATA_DIR_HH = WORK_DIR + '/sample_data_HH'\n",
    "DATA_DIR_NY = WORK_DIR + '/sample_data_NY'\n",
    "\n",
    "info_path_hh = DATA_DIR_HH + '/info.json'\n",
    "info_path_ny = DATA_DIR_NY + '/info.json'"
   ]
  },
  {
   "cell_type": "code",
   "execution_count": 5,
   "metadata": {},
   "outputs": [],
   "source": [
    "def read_json(path: str) -> dict:\n",
    "    with open(path, 'r', encoding = 'utf-8') as f:\n",
    "        info = json.load(f)\n",
    "    return info"
   ]
  },
  {
   "cell_type": "code",
   "execution_count": 6,
   "metadata": {},
   "outputs": [],
   "source": [
    "info_hh = read_json(info_path_hh)\n",
    "info_ny = read_json(info_path_ny)"
   ]
  },
  {
   "cell_type": "markdown",
   "metadata": {},
   "source": [
    " "
   ]
  },
  {
   "cell_type": "markdown",
   "metadata": {},
   "source": [
    " "
   ]
  },
  {
   "cell_type": "markdown",
   "metadata": {},
   "source": [
    "---"
   ]
  },
  {
   "cell_type": "markdown",
   "metadata": {},
   "source": [
    "## Category Settings\n",
    "> 분류할 Category List   \n",
    "추가 변경 가능성 존재  \n",
    "참고 문서 : [Notion Page - Text Category](https://www.notion.so/jeongsu-823/OCR-Project-6a9215cf38df4bc1b3ce337d745b3a4c#55b18cfe810643d7bbab76b3cfa1fa94)\n",
    "- '0': 'UNKNOWN', '1': 'name', '2': 'phone', '3': 'email', '4': 'position', '5': 'company', '6': 'department', '7': 'address', '8': 'site', '9': 'account', '10': 'wise'"
   ]
  },
  {
   "cell_type": "code",
   "execution_count": 7,
   "metadata": {},
   "outputs": [
    {
     "data": {
      "text/plain": [
       "{'0': 'UNKNOWN',\n",
       " '1': 'name',\n",
       " '2': 'phone',\n",
       " '3': 'email',\n",
       " '4': 'position',\n",
       " '5': 'company',\n",
       " '6': 'department',\n",
       " '7': 'address',\n",
       " '8': 'site',\n",
       " '9': 'account',\n",
       " '10': 'wise'}"
      ]
     },
     "execution_count": 7,
     "metadata": {},
     "output_type": "execute_result"
    }
   ],
   "source": [
    "CATEGORIES = info_hh['categories']\n",
    "CATEGORIES"
   ]
  },
  {
   "cell_type": "markdown",
   "metadata": {},
   "source": [
    "  "
   ]
  },
  {
   "cell_type": "markdown",
   "metadata": {},
   "source": [
    "  "
   ]
  },
  {
   "cell_type": "markdown",
   "metadata": {},
   "source": [
    "---"
   ]
  },
  {
   "cell_type": "markdown",
   "metadata": {},
   "source": [
    "## Feature Engineering"
   ]
  },
  {
   "cell_type": "markdown",
   "metadata": {},
   "source": [
    "### API Features Info\n",
    "> API의 output features\n",
    "- 현재는 OCR API output 과 generated Data Info 양식을 맞춰둔 상태"
   ]
  },
  {
   "cell_type": "code",
   "execution_count": 8,
   "metadata": {},
   "outputs": [
    {
     "name": "stdout",
     "output_type": "stream",
     "text": [
      "API Features Info: ['image_id', 'ocr']\n",
      "API Features Info: ['category_id', 'points', 'orientation', 'text']\n"
     ]
    }
   ],
   "source": [
    "print(f\"API Features Info: {list(info_hh['annotations'][0].keys())}\")\n",
    "print(f\"API Features Info: {list(info_hh['annotations'][0]['ocr']['word'][0].keys())}\")"
   ]
  },
  {
   "cell_type": "code",
   "execution_count": 9,
   "metadata": {},
   "outputs": [
    {
     "data": {
      "text/plain": [
       "['image_id', 'category_id', 'points', 'orientation', 'text']"
      ]
     },
     "execution_count": 9,
     "metadata": {},
     "output_type": "execute_result"
    }
   ],
   "source": [
    "features_origin = ['image_id', 'category_id', 'points', 'orientation', 'text']\n",
    "features_origin"
   ]
  },
  {
   "cell_type": "code",
   "execution_count": 10,
   "metadata": {},
   "outputs": [],
   "source": [
    "# json to DataFrame \n",
    "def convert_to_dataframe(info: dict, features: list=features_origin) -> pd.DataFrame:\n",
    "    image_len = len(info['images'])\n",
    "    df_namecard = pd.DataFrame(columns = features)\n",
    "\n",
    "    for idx in range(image_len):\n",
    "        image_id = info['annotations'][idx]['image_id']\n",
    "        words = info['annotations'][idx]['ocr']['word']\n",
    "        temp_dict = {}\n",
    "        \n",
    "        for word in words:\n",
    "            category_id = word['category_id']\n",
    "            points = word['points']\n",
    "            orientation = word['orientation']\n",
    "            text = word['text']\n",
    "            temp_dict = {\n",
    "                'image_id' : image_id,\n",
    "                'category_id' : category_id,\n",
    "                'points' : [points],\n",
    "                'orientation' : orientation,\n",
    "                'text' : text\n",
    "            }\n",
    "            df_namecard = pd.concat([df_namecard, pd.DataFrame(temp_dict)])\n",
    "    \n",
    "    return df_namecard"
   ]
  },
  {
   "cell_type": "code",
   "execution_count": 11,
   "metadata": {},
   "outputs": [],
   "source": [
    "df_namecard_hh_origin = convert_to_dataframe(info_hh)\n",
    "df_namecard_ny_origin = convert_to_dataframe(info_ny)"
   ]
  },
  {
   "cell_type": "code",
   "execution_count": 12,
   "metadata": {},
   "outputs": [
    {
     "data": {
      "text/html": [
       "<div>\n",
       "<style scoped>\n",
       "    .dataframe tbody tr th:only-of-type {\n",
       "        vertical-align: middle;\n",
       "    }\n",
       "\n",
       "    .dataframe tbody tr th {\n",
       "        vertical-align: top;\n",
       "    }\n",
       "\n",
       "    .dataframe thead th {\n",
       "        text-align: right;\n",
       "    }\n",
       "</style>\n",
       "<table border=\"1\" class=\"dataframe\">\n",
       "  <thead>\n",
       "    <tr style=\"text-align: right;\">\n",
       "      <th></th>\n",
       "      <th>image_id</th>\n",
       "      <th>category_id</th>\n",
       "      <th>points</th>\n",
       "      <th>orientation</th>\n",
       "      <th>text</th>\n",
       "    </tr>\n",
       "  </thead>\n",
       "  <tbody>\n",
       "    <tr>\n",
       "      <th>0</th>\n",
       "      <td>0</td>\n",
       "      <td>1</td>\n",
       "      <td>[[81, 224.0], [294, 224.0], [294, 276.0], [81, 276.0]]</td>\n",
       "      <td>Horizontal</td>\n",
       "      <td>정윤서</td>\n",
       "    </tr>\n",
       "    <tr>\n",
       "      <th>0</th>\n",
       "      <td>0</td>\n",
       "      <td>4</td>\n",
       "      <td>[[339.0, 233.0], [372.0, 233.0], [372.0, 276.0], [339.0, 276.0]]</td>\n",
       "      <td>Horizontal</td>\n",
       "      <td>SI</td>\n",
       "    </tr>\n",
       "    <tr>\n",
       "      <th>0</th>\n",
       "      <td>0</td>\n",
       "      <td>6</td>\n",
       "      <td>[[303.0, 176.0], [372.0, 176.0], [372.0, 202.0], [303.0, 202.0]]</td>\n",
       "      <td>Horizontal</td>\n",
       "      <td>지원팀</td>\n",
       "    </tr>\n",
       "    <tr>\n",
       "      <th>0</th>\n",
       "      <td>0</td>\n",
       "      <td>5</td>\n",
       "      <td>[[446, 65], [801, 65], [801, 146], [446, 146]]</td>\n",
       "      <td>Horizontal</td>\n",
       "      <td>지니하우스</td>\n",
       "    </tr>\n",
       "    <tr>\n",
       "      <th>0</th>\n",
       "      <td>0</td>\n",
       "      <td>10</td>\n",
       "      <td>[[83, 41], [801, 41], [801, 65], [83, 65]]</td>\n",
       "      <td>Horizontal</td>\n",
       "      <td>만약 우리가 할 수 있는 일을 모두 한다면 우리들은 우리자신에 깜짝 놀랄 것이다.</td>\n",
       "    </tr>\n",
       "  </tbody>\n",
       "</table>\n",
       "</div>"
      ],
      "text/plain": [
       "  image_id category_id  \\\n",
       "0        0           1   \n",
       "0        0           4   \n",
       "0        0           6   \n",
       "0        0           5   \n",
       "0        0          10   \n",
       "\n",
       "                                                             points  \\\n",
       "0            [[81, 224.0], [294, 224.0], [294, 276.0], [81, 276.0]]   \n",
       "0  [[339.0, 233.0], [372.0, 233.0], [372.0, 276.0], [339.0, 276.0]]   \n",
       "0  [[303.0, 176.0], [372.0, 176.0], [372.0, 202.0], [303.0, 202.0]]   \n",
       "0                    [[446, 65], [801, 65], [801, 146], [446, 146]]   \n",
       "0                        [[83, 41], [801, 41], [801, 65], [83, 65]]   \n",
       "\n",
       "  orientation                                           text  \n",
       "0  Horizontal                                            정윤서  \n",
       "0  Horizontal                                             SI  \n",
       "0  Horizontal                                            지원팀  \n",
       "0  Horizontal                                          지니하우스  \n",
       "0  Horizontal  만약 우리가 할 수 있는 일을 모두 한다면 우리들은 우리자신에 깜짝 놀랄 것이다.  "
      ]
     },
     "execution_count": 12,
     "metadata": {},
     "output_type": "execute_result"
    }
   ],
   "source": [
    "df_namecard_origin = pd.concat([df_namecard_hh_origin, df_namecard_ny_origin])\n",
    "df_namecard_origin.head()"
   ]
  },
  {
   "cell_type": "markdown",
   "metadata": {},
   "source": [
    "## Feature Engineering\n",
    "> 학습을 위한 Feature Engineering  \n",
    "- Points 기반 features : width, height, ratio, area  \n",
    "- Text 기반 features : text, include_AT_SIGN, phone_type_text, is_alpha, is_alnum, text_length"
   ]
  },
  {
   "cell_type": "code",
   "execution_count": 32,
   "metadata": {},
   "outputs": [],
   "source": [
    "# Points based Features\n",
    "features_by_points = ['width', 'height', 'ratio(h/w)', 'area']\n",
    "\n",
    "# Text based Features\n",
    "features_by_text = ['orientation', 'text', 'include_AT_SIGN', 'phone_type_text', 'is_alpha', 'is_alnum', 'text_length']\n",
    "\n",
    "# All Features\n",
    "features = features_by_points + features_by_text\n",
    "\n",
    "# label\n",
    "label = ['category_id']"
   ]
  },
  {
   "cell_type": "code",
   "execution_count": 33,
   "metadata": {},
   "outputs": [
    {
     "data": {
      "text/plain": [
       "['width',\n",
       " 'height',\n",
       " 'ratio(h/w)',\n",
       " 'area',\n",
       " 'orientation',\n",
       " 'text',\n",
       " 'include_AT_SIGN',\n",
       " 'phone_type_text',\n",
       " 'is_alpha',\n",
       " 'is_alnum',\n",
       " 'text_length']"
      ]
     },
     "execution_count": 33,
     "metadata": {},
     "output_type": "execute_result"
    }
   ],
   "source": [
    "features"
   ]
  },
  {
   "cell_type": "markdown",
   "metadata": {},
   "source": [
    "### Feature Engineering function"
   ]
  },
  {
   "cell_type": "markdown",
   "metadata": {},
   "source": [
    "- FeatureEngineering class 로 만들 예정"
   ]
  },
  {
   "cell_type": "code",
   "execution_count": 38,
   "metadata": {},
   "outputs": [],
   "source": [
    "# width (가로 길이) : 시계 방향 기준 첫 번째 좌표와 두 번째 좌표의 x 값 차이\n",
    "\n",
    "def calculate_width(points: list) -> float:\n",
    "    point_1, point_2, point_3, point_4 = points\n",
    "    width = abs(point_2[0] - point_1[0])\n",
    "    \n",
    "    return width"
   ]
  },
  {
   "cell_type": "code",
   "execution_count": 39,
   "metadata": {},
   "outputs": [],
   "source": [
    "# height (세로 길이) : 시계 방향 기준 첫 번째 좌표와 네 번째 좌표의 y 값 차이\n",
    "\n",
    "# Calculate Height\n",
    "def calculate_height(points: list) -> float:\n",
    "    point_1, point_2, point_3, point_4 = points\n",
    "    height = abs(point_1[1] - point_4[1])\n",
    "    \n",
    "    return height"
   ]
  },
  {
   "cell_type": "code",
   "execution_count": 40,
   "metadata": {},
   "outputs": [],
   "source": [
    "# ratio(h/w) (가로 길이에 대한 세로 길이의 비율) : 세로 길이 / 가로 길이\n",
    "\n",
    "def calculate_ratio(width: float, height: float) -> float:\n",
    "    ratio = height / width\n",
    "    \n",
    "    return ratio"
   ]
  },
  {
   "cell_type": "code",
   "execution_count": 41,
   "metadata": {},
   "outputs": [],
   "source": [
    "# include_AT_SIGN : text 안에 '@' 이 포함된 경우 1, 아닌 경우 0\n",
    "\n",
    "def check_include_at_sign(text: str) -> int:\n",
    "    '''\n",
    "        Check '@' is included\n",
    "    '''\n",
    "    if '@' in text:\n",
    "        return 1\n",
    "    else:\n",
    "        return 0"
   ]
  },
  {
   "cell_type": "code",
   "execution_count": 42,
   "metadata": {},
   "outputs": [],
   "source": [
    "# phone_type_text : 숫자 or '.' or '+' or '(' or ')' or '-' or ' ' 만 포함된 경우 1, 아닌 경우 0\n",
    "\n",
    "def check_phone_type_text(text: str) -> int:\n",
    "    '''\n",
    "        Verify it is phone type text\n",
    "    '''\n",
    "    phone_type_char = '0123456789.+()- '\n",
    "    \n",
    "    for c in text:\n",
    "        if c not in phone_type_char:\n",
    "            return 0\n",
    "    return 1"
   ]
  },
  {
   "cell_type": "code",
   "execution_count": 58,
   "metadata": {},
   "outputs": [],
   "source": [
    "# is_alpha : Text 구성이 알파벳 또는 한글로만 이루어진 경우\n",
    "\n",
    "def check_is_alpha(text: str) -> int:\n",
    "    if text.isalpha():\n",
    "        return 1\n",
    "    else:\n",
    "        return 0"
   ]
  },
  {
   "cell_type": "code",
   "execution_count": 59,
   "metadata": {},
   "outputs": [],
   "source": [
    "# is_alnum : 알파벳 또는 한글 또는 숫자로만 이루어진 경우\n",
    "\n",
    "def check_is_alnum(text: str) -> int:\n",
    "    if text.isalnum():\n",
    "        return 1\n",
    "    else:\n",
    "        return 0"
   ]
  },
  {
   "cell_type": "code",
   "execution_count": 60,
   "metadata": {},
   "outputs": [],
   "source": [
    "# text_length : Text 의 길이\n",
    "\n",
    "def calculate_text_length(text: str) -> int:\n",
    "    text_length = len(text)\n",
    "    \n",
    "    return text_length"
   ]
  },
  {
   "cell_type": "code",
   "execution_count": 61,
   "metadata": {},
   "outputs": [],
   "source": [
    "width = df_namecard_origin['points'].transform(calculate_width)\n",
    "height = df_namecard_origin['points'].transform(calculate_height)\n",
    "text = df_namecard_origin['text']"
   ]
  },
  {
   "cell_type": "markdown",
   "metadata": {},
   "source": [
    "### Feature Engineering Output 생성\n",
    "> df_namcard: DataFrame -> tab_data: np.array"
   ]
  },
  {
   "cell_type": "code",
   "execution_count": 62,
   "metadata": {},
   "outputs": [],
   "source": [
    "df_namecard = pd.DataFrame()"
   ]
  },
  {
   "cell_type": "code",
   "execution_count": 63,
   "metadata": {},
   "outputs": [],
   "source": [
    "# features by points\n",
    "\n",
    "df_namecard['width'] = width\n",
    "df_namecard['height'] = height\n",
    "df_namecard['ratio(h/w)'] = height / width\n",
    "df_namecard['area'] = height * width"
   ]
  },
  {
   "cell_type": "code",
   "execution_count": 64,
   "metadata": {},
   "outputs": [],
   "source": [
    "# features by text\n",
    "\n",
    "df_namecard['include_AT_SIGN'] = text.transform(check_include_at_sign)\n",
    "df_namecard['phone_type_text'] = text.transform(check_phone_type_text)\n",
    "df_namecard['is_alpha'] = text.transform(check_is_alpha)\n",
    "df_namecard['is_alnum'] = text.transform(check_is_alnum)\n",
    "df_namecard['text_length'] = text.transform(calculate_text_length)"
   ]
  },
  {
   "cell_type": "code",
   "execution_count": 65,
   "metadata": {},
   "outputs": [],
   "source": [
    "# label\n",
    "\n",
    "df_namecard['category_id'] = df_namecard_origin['category_id']"
   ]
  },
  {
   "cell_type": "code",
   "execution_count": 66,
   "metadata": {},
   "outputs": [
    {
     "data": {
      "text/html": [
       "<div>\n",
       "<style scoped>\n",
       "    .dataframe tbody tr th:only-of-type {\n",
       "        vertical-align: middle;\n",
       "    }\n",
       "\n",
       "    .dataframe tbody tr th {\n",
       "        vertical-align: top;\n",
       "    }\n",
       "\n",
       "    .dataframe thead th {\n",
       "        text-align: right;\n",
       "    }\n",
       "</style>\n",
       "<table border=\"1\" class=\"dataframe\">\n",
       "  <thead>\n",
       "    <tr style=\"text-align: right;\">\n",
       "      <th></th>\n",
       "      <th>width</th>\n",
       "      <th>height</th>\n",
       "      <th>ratio(h/w)</th>\n",
       "      <th>area</th>\n",
       "      <th>include_AT_SIGN</th>\n",
       "      <th>phone_type_text</th>\n",
       "      <th>is_alpha</th>\n",
       "      <th>is_alnum</th>\n",
       "      <th>text_length</th>\n",
       "      <th>category_id</th>\n",
       "    </tr>\n",
       "  </thead>\n",
       "  <tbody>\n",
       "    <tr>\n",
       "      <th>0</th>\n",
       "      <td>75.0</td>\n",
       "      <td>26.0</td>\n",
       "      <td>0.346667</td>\n",
       "      <td>1950.0</td>\n",
       "      <td>0</td>\n",
       "      <td>0</td>\n",
       "      <td>1</td>\n",
       "      <td>1</td>\n",
       "      <td>3</td>\n",
       "      <td>1</td>\n",
       "    </tr>\n",
       "    <tr>\n",
       "      <th>0</th>\n",
       "      <td>130.0</td>\n",
       "      <td>18.0</td>\n",
       "      <td>0.138462</td>\n",
       "      <td>2340.0</td>\n",
       "      <td>0</td>\n",
       "      <td>1</td>\n",
       "      <td>0</td>\n",
       "      <td>0</td>\n",
       "      <td>12</td>\n",
       "      <td>2</td>\n",
       "    </tr>\n",
       "    <tr>\n",
       "      <th>0</th>\n",
       "      <td>266.0</td>\n",
       "      <td>23.0</td>\n",
       "      <td>0.086466</td>\n",
       "      <td>6118.0</td>\n",
       "      <td>1</td>\n",
       "      <td>0</td>\n",
       "      <td>0</td>\n",
       "      <td>0</td>\n",
       "      <td>23</td>\n",
       "      <td>3</td>\n",
       "    </tr>\n",
       "    <tr>\n",
       "      <th>0</th>\n",
       "      <td>190.0</td>\n",
       "      <td>24.0</td>\n",
       "      <td>0.126316</td>\n",
       "      <td>4560.0</td>\n",
       "      <td>0</td>\n",
       "      <td>0</td>\n",
       "      <td>0</td>\n",
       "      <td>0</td>\n",
       "      <td>18</td>\n",
       "      <td>8</td>\n",
       "    </tr>\n",
       "    <tr>\n",
       "      <th>0</th>\n",
       "      <td>89.0</td>\n",
       "      <td>19.0</td>\n",
       "      <td>0.213483</td>\n",
       "      <td>1691.0</td>\n",
       "      <td>0</td>\n",
       "      <td>1</td>\n",
       "      <td>0</td>\n",
       "      <td>0</td>\n",
       "      <td>8</td>\n",
       "      <td>2</td>\n",
       "    </tr>\n",
       "  </tbody>\n",
       "</table>\n",
       "</div>"
      ],
      "text/plain": [
       "   width  height  ratio(h/w)    area  include_AT_SIGN  phone_type_text  \\\n",
       "0   75.0    26.0    0.346667  1950.0                0                0   \n",
       "0  130.0    18.0    0.138462  2340.0                0                1   \n",
       "0  266.0    23.0    0.086466  6118.0                1                0   \n",
       "0  190.0    24.0    0.126316  4560.0                0                0   \n",
       "0   89.0    19.0    0.213483  1691.0                0                1   \n",
       "\n",
       "   is_alpha  is_alnum  text_length category_id  \n",
       "0         1         1            3           1  \n",
       "0         0         0           12           2  \n",
       "0         0         0           23           3  \n",
       "0         0         0           18           8  \n",
       "0         0         0            8           2  "
      ]
     },
     "execution_count": 66,
     "metadata": {},
     "output_type": "execute_result"
    }
   ],
   "source": [
    "df_namecard.tail()"
   ]
  },
  {
   "cell_type": "code",
   "execution_count": 69,
   "metadata": {},
   "outputs": [],
   "source": [
    "tab_data = df_namecard.to_numpy()"
   ]
  },
  {
   "cell_type": "code",
   "execution_count": 70,
   "metadata": {},
   "outputs": [
    {
     "data": {
      "text/plain": [
       "array([[213.0, 52.0, 0.24413145539906103, ..., 1, 3, 1],\n",
       "       [33.0, 43.0, 1.303030303030303, ..., 1, 2, 4],\n",
       "       [69.0, 26.0, 0.37681159420289856, ..., 1, 3, 6],\n",
       "       ...,\n",
       "       [266.0, 23.0, 0.08646616541353383, ..., 0, 23, 3],\n",
       "       [190.0, 24.0, 0.12631578947368421, ..., 0, 18, 8],\n",
       "       [89.0, 19.0, 0.21348314606741572, ..., 0, 8, 2]], dtype=object)"
      ]
     },
     "execution_count": 70,
     "metadata": {},
     "output_type": "execute_result"
    }
   ],
   "source": [
    "tab_data"
   ]
  }
 ],
 "metadata": {
  "kernelspec": {
   "display_name": "Python 3 (ipykernel)",
   "language": "python",
   "name": "python3"
  },
  "language_info": {
   "codemirror_mode": {
    "name": "ipython",
    "version": 3
   },
   "file_extension": ".py",
   "mimetype": "text/x-python",
   "name": "python",
   "nbconvert_exporter": "python",
   "pygments_lexer": "ipython3",
   "version": "3.8.5"
  }
 },
 "nbformat": 4,
 "nbformat_minor": 4
}
