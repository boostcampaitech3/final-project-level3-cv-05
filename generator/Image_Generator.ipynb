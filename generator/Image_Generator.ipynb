{
 "cells": [
  {
   "cell_type": "markdown",
   "metadata": {},
   "source": [
    "## 이미지 생성을 위한 Notebook"
   ]
  },
  {
   "cell_type": "code",
   "execution_count": 1,
   "metadata": {},
   "outputs": [],
   "source": [
    "import os\n",
    "from generate import generate\n",
    "from drawer import image_generate\n",
    "import json"
   ]
  },
  {
   "cell_type": "markdown",
   "metadata": {},
   "source": [
    "#### 이미지 생성 process\n",
    "결과파일은 results 폴더에 작성됩니다."
   ]
  },
  {
   "cell_type": "code",
   "execution_count": 2,
   "metadata": {},
   "outputs": [],
   "source": [
    "for dir in ['results', 'results/images']:\n",
    "    os.makedirs(dir, exist_ok=True)\n",
    "\n",
    "idx = len(os.listdir('results/images'))\n",
    "if idx:\n",
    "    with open('results/info.json', 'r') as j:\n",
    "        json_object = json.load(j)\n",
    "else:\n",
    "    with open('sample.json', 'r') as j:\n",
    "        json_object = json.load(j)\n",
    "\n",
    "\n",
    "# number of make images\n",
    "number = 1000\n",
    "for _ in range(number):\n",
    "    info = generate()\n",
    "    image, image_info, width, height = image_generate(info)\n",
    "    json_object[\"images\"].append({\"width\": width, \"height\": height, \"file\":f\"{idx:04}.png\", \"id\": idx})\n",
    "    annotation = {\"image_id\":idx, \"ocr\":{\"word\":image_info}}\n",
    "    json_object[\"annotations\"].append(annotation)\n",
    "    image.save(f'results/images/{idx:04}.png')\n",
    "    idx += 1\n",
    "\n",
    "with open('results/info.json', 'w') as j:\n",
    "    json_string = json.dump(json_object,j, indent=2, ensure_ascii=False)"
   ]
  },
  {
   "cell_type": "markdown",
   "metadata": {},
   "source": [
    "#### 이미지 확인을 위한 annotation 체크\n",
    "results 폴더와 info.json 파일이 있을 때 실행하세요"
   ]
  },
  {
   "cell_type": "code",
   "execution_count": 3,
   "metadata": {},
   "outputs": [
    {
     "data": {
      "text/plain": [
       "dict_keys(['images', 'categories', 'annotations'])"
      ]
     },
     "execution_count": 3,
     "metadata": {},
     "output_type": "execute_result"
    }
   ],
   "source": [
    "with open('results/info.json', 'r') as j:\n",
    "    json_object = json.load(j)\n",
    "json_object.keys()"
   ]
  },
  {
   "cell_type": "code",
   "execution_count": 4,
   "metadata": {},
   "outputs": [
    {
     "data": {
      "text/plain": [
       "{'image_id': 1,\n",
       " 'ocr': {'word': [{'category_id': 1,\n",
       "    'points': [[639, 225.0], [801, 225.0], [801, 275.0], [639, 275.0]],\n",
       "    'orientation': 'Horizontal',\n",
       "    'text': '하갑수'},\n",
       "   {'category_id': 4,\n",
       "    'orientation': 'Horizontal',\n",
       "    'points': [[469.0, 240.0], [594.0, 240.0], [594.0, 275.0], [469.0, 275.0]],\n",
       "    'text': '프로게이머'},\n",
       "   {'category_id': 5,\n",
       "    'orientation': 'Horizontal',\n",
       "    'points': [[117, 35], [407, 35], [407, 90], [117, 90]],\n",
       "    'text': '주식회사 구앤택'},\n",
       "   {'category_id': 10,\n",
       "    'orientation': 'Horizontal',\n",
       "    'points': [[117, 17], [366, 17], [366, 35], [117, 35]],\n",
       "    'text': '자신감 있는 표정을 지으면 자신감이 생긴다'},\n",
       "   {'category_id': 2,\n",
       "    'orientation': 'Horizontal',\n",
       "    'points': [[669, 350.0], [801, 350.0], [801, 371.0], [669, 371.0]],\n",
       "    'text': '5093.9754.0640'},\n",
       "   {'category_id': 3,\n",
       "    'orientation': 'Horizontal',\n",
       "    'points': [[635, 375.0], [801, 375.0], [801, 398.0], [635, 398.0]],\n",
       "    'text': 'F6gKBV@sunjin.net'},\n",
       "   {'category_id': 7,\n",
       "    'orientation': 'Horizontal',\n",
       "    'points': [[430, 410.0], [801, 410.0], [801, 432.0], [430, 432.0]],\n",
       "    'text': '(06044) 서울특별시 강남구 학동로3길 8 환윤빌딩 1층'},\n",
       "   {'category_id': 0,\n",
       "    'orientation': 'Horizontal',\n",
       "    'points': [[569, 440.0], [801, 440.0], [801, 461.0], [569, 461.0]],\n",
       "    'text': '사업자등록번호 :402-83-46562'}]}}"
      ]
     },
     "execution_count": 4,
     "metadata": {},
     "output_type": "execute_result"
    }
   ],
   "source": [
    "json_object['annotations'][1]"
   ]
  },
  {
   "cell_type": "code",
   "execution_count": null,
   "metadata": {},
   "outputs": [],
   "source": []
  }
 ],
 "metadata": {
  "interpreter": {
   "hash": "3a98d37bd43be7732ff55c466e906cf3afa807b58eb4d146efb1039af9afb01f"
  },
  "kernelspec": {
   "display_name": "Python 3.9.7 ('base')",
   "language": "python",
   "name": "python3"
  },
  "language_info": {
   "codemirror_mode": {
    "name": "ipython",
    "version": 3
   },
   "file_extension": ".py",
   "mimetype": "text/x-python",
   "name": "python",
   "nbconvert_exporter": "python",
   "pygments_lexer": "ipython3",
   "version": "3.9.7"
  },
  "orig_nbformat": 4
 },
 "nbformat": 4,
 "nbformat_minor": 2
}
