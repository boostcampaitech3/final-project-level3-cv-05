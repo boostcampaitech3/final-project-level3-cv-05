{
 "cells": [
  {
   "cell_type": "markdown",
   "metadata": {},
   "source": [
    "## 이미지 생성을 위한 Notebook"
   ]
  },
  {
   "cell_type": "code",
   "execution_count": 1,
   "metadata": {},
   "outputs": [],
   "source": [
    "import os\n",
    "from generate import generate\n",
    "from drawer import image_generate\n",
    "import json"
   ]
  },
  {
   "cell_type": "markdown",
   "metadata": {},
   "source": [
    "#### 이미지 생성 process\n",
    "결과파일은 results 폴더에 작성됩니다."
   ]
  },
  {
   "cell_type": "code",
   "execution_count": 2,
   "metadata": {},
   "outputs": [],
   "source": [
    "for dir in ['results', 'results/images']:\n",
    "    os.makedirs(dir, exist_ok=True)\n",
    "\n",
    "idx = len(os.listdir('results/images'))\n",
    "if idx:\n",
    "    with open('results/info.json', 'r', encoding=\"UTF-8\") as j:\n",
    "        json_object = json.load(j)\n",
    "else:\n",
    "    with open('sample.json', 'r', encoding=\"UTF-8\") as j:\n",
    "        json_object = json.load(j)\n",
    "\n",
    "\n",
    "# number of make images\n",
    "number = 1000\n",
    "for _ in range(number):\n",
    "    info = generate()\n",
    "    image, image_info, width, height = image_generate(info)\n",
    "    json_object[\"images\"].append({\"width\": width, \"height\": height, \"file\":f\"{idx:04}.png\", \"id\": idx})\n",
    "    annotation = {\"image_id\":idx, \"ocr\":{\"word\":image_info}}\n",
    "    json_object[\"annotations\"].append(annotation)\n",
    "    image.save(f'results/images/{idx:04}.png')\n",
    "    idx += 1\n",
    "\n",
    "with open('results/info.json', 'w', encoding=\"UTF-8\") as j:\n",
    "    json_string = json.dump(json_object,j, indent=2, ensure_ascii=False)"
   ]
  },
  {
   "cell_type": "markdown",
   "metadata": {},
   "source": [
    "#### 이미지 확인을 위한 annotation 체크\n",
    "results 폴더와 info.json 파일이 있을 때 실행하세요"
   ]
  },
  {
   "cell_type": "code",
   "execution_count": 4,
   "metadata": {},
   "outputs": [
    {
     "data": {
      "text/plain": [
       "dict_keys(['images', 'categories', 'annotations'])"
      ]
     },
     "execution_count": 4,
     "metadata": {},
     "output_type": "execute_result"
    }
   ],
   "source": [
    "with open('results/info.json', 'r', encoding=\"UTF-8\") as j:\n",
    "    json_object = json.load(j)\n",
    "json_object.keys()"
   ]
  },
  {
   "cell_type": "code",
   "execution_count": 6,
   "metadata": {},
   "outputs": [
    {
     "data": {
      "text/plain": [
       "{'image_id': 0,\n",
       " 'ocr': {'word': [{'category_id': 1,\n",
       "    'points': [[774, 227.0], [846, 227.0], [846, 273.0], [774, 273.0]],\n",
       "    'orientation': 'Horizontal',\n",
       "    'text': '지현숙'},\n",
       "   {'category_id': 4,\n",
       "    'orientation': 'Horizontal',\n",
       "    'points': [[659.0, 233.0], [729.0, 233.0], [729.0, 273.0], [659.0, 273.0]],\n",
       "    'text': '장의사'},\n",
       "   {'category_id': 6,\n",
       "    'orientation': 'Horizontal',\n",
       "    'points': [[769, 288.0], [846, 288.0], [846, 317.0], [769, 317.0]],\n",
       "    'text': '노사협력팀'},\n",
       "   {'category_id': 2,\n",
       "    'orientation': 'Horizontal',\n",
       "    'points': [[747, 350.0], [846, 350.0], [846, 372.0], [747, 372.0]],\n",
       "    'text': '(+86)67.39.0000'},\n",
       "   {'category_id': 3,\n",
       "    'orientation': 'Horizontal',\n",
       "    'points': [[619, 375.0], [846, 375.0], [846, 395.0], [619, 395.0]],\n",
       "    'text': '8KC2iMiC2dZmTh@jeilmed.co.kr'}]}}"
      ]
     },
     "execution_count": 6,
     "metadata": {},
     "output_type": "execute_result"
    }
   ],
   "source": [
    "json_object['annotations'][0]"
   ]
  },
  {
   "cell_type": "code",
   "execution_count": null,
   "metadata": {},
   "outputs": [],
   "source": []
  }
 ],
 "metadata": {
  "interpreter": {
   "hash": "3a98d37bd43be7732ff55c466e906cf3afa807b58eb4d146efb1039af9afb01f"
  },
  "kernelspec": {
   "display_name": "Python 3.9.7 ('base')",
   "language": "python",
   "name": "python3"
  },
  "language_info": {
   "codemirror_mode": {
    "name": "ipython",
    "version": 3
   },
   "file_extension": ".py",
   "mimetype": "text/x-python",
   "name": "python",
   "nbconvert_exporter": "python",
   "pygments_lexer": "ipython3",
   "version": "3.9.7"
  },
  "orig_nbformat": 4
 },
 "nbformat": 4,
 "nbformat_minor": 2
}
