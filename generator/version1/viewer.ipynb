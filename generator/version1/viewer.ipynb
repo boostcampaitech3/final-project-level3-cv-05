{
 "cells": [
  {
   "cell_type": "code",
   "execution_count": 1,
   "metadata": {},
   "outputs": [],
   "source": [
    "import os\n",
    "from PIL import Image\n",
    "from ipywidgets import interact\n",
    "import matplotlib.pyplot as plt\n",
    "import matplotlib.patches as patches\n",
    "import json\n",
    "import pandas as pd\n",
    "import seaborn as sns\n",
    "\n",
    "files = sorted(os.listdir(\"results/images\"))\n",
    "\n",
    "\n",
    "with open('results/info.json') as j:\n",
    "    json_object = json.load(j)\n",
    "\n",
    "df = pd.DataFrame(json_object['annotations'])"
   ]
  },
  {
   "cell_type": "code",
   "execution_count": 2,
   "metadata": {},
   "outputs": [],
   "source": [
    "idx = 0\n",
    "sub = df['ocr'][idx]['word']\n",
    "points = [sub[i]['points'] for i in range(len(sub))]"
   ]
  },
  {
   "cell_type": "code",
   "execution_count": 3,
   "metadata": {},
   "outputs": [],
   "source": [
    "def draw_rec(ax, idx, df):\n",
    "    subs = df['ocr'][idx]['word']\n",
    "    palette = sns.color_palette('bright', n_colors=11)\n",
    "    for sub in subs:\n",
    "        x1, y1, x2, y2 = sub['points'][3][0], sub['points'][3][1], sub['points'][1][0], sub['points'][1][1]\n",
    "        ax.add_patch(patches.Rectangle((x1, y1), x2-x1, y2-y1, edgecolor = palette[sub['category_id']], fill=False))\n",
    "        size = 20\n",
    "        ax.text(x1-size*len(str(sub['category_id'])), y1, sub['category_id'], color=palette[sub['category_id']], size=size)\n",
    "        ax.set_xticks([])\n",
    "        ax.set_yticks([])"
   ]
  },
  {
   "cell_type": "code",
   "execution_count": 4,
   "metadata": {},
   "outputs": [
    {
     "data": {
      "application/vnd.jupyter.widget-view+json": {
       "model_id": "d205cf1c46f940eab8a6ec4f9cece96e",
       "version_major": 2,
       "version_minor": 0
      },
      "text/plain": [
       "interactive(children=(IntSlider(value=0, description='idx', max=1374), Output()), _dom_classes=('widget-intera…"
      ]
     },
     "metadata": {},
     "output_type": "display_data"
    }
   ],
   "source": [
    "@interact(idx = (0, (len(files)-1)//4))\n",
    "def show(idx = 0):\n",
    "    files = sorted(os.listdir(\"results/images\"))\n",
    "    idx = idx * 4\n",
    "    image1 = Image.open(f\"results/images/{files[idx]}\"); image2 = Image.open(f\"results/images/{files[idx+1]}\"); image3 = Image.open(f\"results/images/{files[idx+2]}\"); image4 = Image.open(f\"results/images/{files[idx+3]}\")\n",
    "    fig = plt.figure(figsize=(25,30))\n",
    "    ax1 = fig.add_subplot(1, 2, 2); ax2 = fig.add_subplot(1, 2, 1); ax3 = fig.add_subplot(2, 2, 2); ax4 = fig.add_subplot(2, 2, 1)\n",
    "    ax1.imshow(image1); ax2.imshow(image2); ax3.imshow(image3); ax4.imshow(image4)\n",
    "    draw_rec(ax1, idx, df); draw_rec(ax2, idx + 1, df); draw_rec(ax3, idx + 2, df); draw_rec(ax4, idx + 3, df)"
   ]
  },
  {
   "cell_type": "code",
   "execution_count": null,
   "metadata": {},
   "outputs": [],
   "source": []
  }
 ],
 "metadata": {
  "interpreter": {
   "hash": "3a98d37bd43be7732ff55c466e906cf3afa807b58eb4d146efb1039af9afb01f"
  },
  "kernelspec": {
   "display_name": "Python 3 (ipykernel)",
   "language": "python",
   "name": "python3"
  },
  "language_info": {
   "codemirror_mode": {
    "name": "ipython",
    "version": 3
   },
   "file_extension": ".py",
   "mimetype": "text/x-python",
   "name": "python",
   "nbconvert_exporter": "python",
   "pygments_lexer": "ipython3",
   "version": "3.9.7"
  }
 },
 "nbformat": 4,
 "nbformat_minor": 2
}
