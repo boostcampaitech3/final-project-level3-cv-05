{
 "cells": [
  {
   "cell_type": "code",
   "execution_count": 5,
   "metadata": {},
   "outputs": [],
   "source": [
    "import os\n",
    "from PIL import Image\n",
    "from ipywidgets import interact\n",
    "import matplotlib.pyplot as plt\n",
    "import matplotlib.patches as patches\n",
    "import json\n",
    "import pandas as pd"
   ]
  },
  {
   "cell_type": "code",
   "execution_count": 6,
   "metadata": {},
   "outputs": [],
   "source": [
    "files = sorted(os.listdir(\"results/images\"))\n",
    "\n",
    "with open('results/info.json') as j:\n",
    "    json_object = json.load(j)\n",
    "\n",
    "df = pd.DataFrame(json_object['annotations'])\n",
    "\n",
    "def draw_rec(ax, idx):\n",
    "    sub = pd.DataFrame(df['ocr'][idx])\n",
    "    sub = [sub['word'][i]['points'] for i in range(len(sub))]\n",
    "    for s in sub:\n",
    "        x1, y1, x2, y2 = s[3][0], s[3][1], s[1][0], s[1][1]\n",
    "        ax.add_patch(patches.Rectangle((x1, y1), x2-x1, y2-y1, edgecolor = 'blue', fill=False))"
   ]
  },
  {
   "cell_type": "code",
   "execution_count": 7,
   "metadata": {},
   "outputs": [
    {
     "data": {
      "application/vnd.jupyter.widget-view+json": {
       "model_id": "bf423d6ce7144e7cb613764fa590a279",
       "version_major": 2,
       "version_minor": 0
      },
      "text/plain": [
       "interactive(children=(IntSlider(value=0, description='idx', max=1999), Output()), _dom_classes=('widget-intera…"
      ]
     },
     "metadata": {},
     "output_type": "display_data"
    }
   ],
   "source": [
    "@interact(idx = (0, len(files)-1)//4)\n",
    "def show(idx = 0):\n",
    "    idx = idx * 4\n",
    "    image1 = Image.open(f\"results/images/{files[idx]}\")\n",
    "    image2 = Image.open(f\"results/images/{files[idx+1]}\")\n",
    "    image3 = Image.open(f\"results/images/{files[idx+2]}\")\n",
    "    image4 = Image.open(f\"results/images/{files[idx+3]}\")\n",
    "\n",
    "    fig = plt.figure(figsize=(20,30))\n",
    "    #fig = plt.figure(figsize=(25,30))\n",
    "    ax1 = fig.add_subplot(1, 2, 2)\n",
    "    ax2 = fig.add_subplot(1, 2, 1)\n",
    "    ax3 = fig.add_subplot(2, 2, 2)\n",
    "    ax4 = fig.add_subplot(2, 2, 1)\n",
    "\n",
    "    ax1.imshow(image1)\n",
    "    ax2.imshow(image2)\n",
    "    ax3.imshow(image3)\n",
    "    ax4.imshow(image4)\n",
    "\n",
    "    draw_rec(ax1, idx)\n",
    "    draw_rec(ax2, idx + 1)\n",
    "    draw_rec(ax3, idx + 2)\n",
    "    draw_rec(ax4, idx + 3)\n"
   ]
  },
  {
   "cell_type": "code",
   "execution_count": null,
   "metadata": {},
   "outputs": [],
   "source": []
  },
  {
   "cell_type": "code",
   "execution_count": null,
   "metadata": {},
   "outputs": [],
   "source": []
  }
 ],
 "metadata": {
  "interpreter": {
   "hash": "3a98d37bd43be7732ff55c466e906cf3afa807b58eb4d146efb1039af9afb01f"
  },
  "kernelspec": {
   "display_name": "Python 3.9.7 ('base')",
   "language": "python",
   "name": "python3"
  },
  "language_info": {
   "codemirror_mode": {
    "name": "ipython",
    "version": 3
   },
   "file_extension": ".py",
   "mimetype": "text/x-python",
   "name": "python",
   "nbconvert_exporter": "python",
   "pygments_lexer": "ipython3",
   "version": "3.9.7"
  },
  "orig_nbformat": 4
 },
 "nbformat": 4,
 "nbformat_minor": 2
}
