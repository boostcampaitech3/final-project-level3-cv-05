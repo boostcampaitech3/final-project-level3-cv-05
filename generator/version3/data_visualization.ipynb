{
 "cells": [
  {
   "cell_type": "code",
   "execution_count": 80,
   "metadata": {},
   "outputs": [],
   "source": [
    "%matplotlib inline\n",
    "\n",
    "import numpy as np\n",
    "import skimage.io as io\n",
    "import matplotlib.pyplot as plt\n",
    "import os\n",
    "from ipywidgets import interact\n",
    "import matplotlib.patches as patches\n",
    "import seaborn as sns\n",
    "import ipywidgets as widgets\n",
    "from ipywidgets import *\n",
    "import pandas as pd\n",
    "\n",
    "import json"
   ]
  },
  {
   "cell_type": "code",
   "execution_count": 81,
   "metadata": {},
   "outputs": [],
   "source": [
    "root_path = 'sample' # images folder \n",
    "anno_root = 'info.json' # json file folder "
   ]
  },
  {
   "cell_type": "code",
   "execution_count": 82,
   "metadata": {},
   "outputs": [],
   "source": [
    "with open(anno_root, 'r') as f:\n",
    "    train_json = json.load(f)\n",
    "    images = train_json['images']\n",
    "    annotations = train_json['annotations']\n",
    "\n",
    "images_viz = dict()\n",
    "for item in images:\n",
    "    images_viz[item['id']] = dict()\n",
    "    images_viz[item['id']]['id'] = item['id']\n",
    "    images_viz[item['id']]['file_name'] = item['file']"
   ]
  },
  {
   "cell_type": "code",
   "execution_count": 84,
   "metadata": {},
   "outputs": [],
   "source": [
    "for anno in annotations:\n",
    "    images_viz[anno['image_id']]['bbox'] = anno['ocr']['word']"
   ]
  },
  {
   "cell_type": "code",
   "execution_count": 85,
   "metadata": {},
   "outputs": [],
   "source": [
    "categories = {\n",
    "            \"0\": \"UNKNOWN\",\n",
    "            \"1\": \"name\",\n",
    "            \"2\": \"phone\",\n",
    "            \"3\": \"email\",\n",
    "            \"4\": \"position\",\n",
    "            \"5\": \"company\",\n",
    "            \"6\": \"department\",\n",
    "            \"7\": \"address\",\n",
    "            \"8\": \"site\",\n",
    "            \"9\": \"account\",\n",
    "            \"10\": \"wise\",\n",
    "        }"
   ]
  },
  {
   "cell_type": "code",
   "execution_count": 86,
   "metadata": {},
   "outputs": [
    {
     "data": {
      "application/vnd.jupyter.widget-view+json": {
       "model_id": "5c6406888a424cc5a7742732ef85bf9c",
       "version_major": 2,
       "version_minor": 0
      },
      "text/plain": [
       "interactive(children=(IntSlider(value=0, description='idx', max=2), Dropdown(description='cls_id', index=11, o…"
      ]
     },
     "metadata": {},
     "output_type": "display_data"
    }
   ],
   "source": [
    "palette = sns.color_palette('bright', 11)\n",
    "\n",
    "fnames = [(images_viz[id]['id'], images_viz[id]['file_name']) for id in images_viz]\n",
    "\n",
    "@interact(idx=(fnames[0][0], fnames[-1][0]), cls_id=range(0, len(categories)+1))\n",
    "def showImg(idx=0, cls_id=len(categories)):\n",
    "    fig, ax = plt.subplots(dpi=200)\n",
    "    img = io.imread(root_path + '/' +fnames[idx][1])\n",
    "\n",
    "    anns = images_viz[idx]['bbox']\n",
    "\n",
    "    ax.imshow(img)\n",
    "    for ann in anns:\n",
    "        class_idx = ann['category_id']\n",
    "\n",
    "        ax.set_title(f\"{fnames[idx][1]}\", fontsize=7)\n",
    "\n",
    "        # 축 제거 \n",
    "        ax.set_xticks([])\n",
    "        ax.set_yticks([])\n",
    "        for pos in ['right', 'top', 'bottom', 'left']:\n",
    "            ax.spines[pos].set_visible(False)\n",
    "\n",
    "        points = np.array(ann['points'])\n",
    "        text = ann['text']\n",
    "\n",
    "        # bbox 시각화 \n",
    "        if(class_idx == cls_id or cls_id == 11):\n",
    "            color = palette[class_idx]\n",
    "            ax.add_patch(\n",
    "                patches.Polygon(\n",
    "                    points,\n",
    "                    closed=True,\n",
    "                    edgecolor=color,\n",
    "                    fill=False,\n",
    "                    ),\n",
    "                )\n",
    "\n",
    "            x, y = points[-1][0], points[0][1]\n",
    "\n",
    "            text_y = y-5 if y>5 else y+5 \n",
    "            plt_text = ax.text(x,text_y, f'{class_idx} : {categories[str(class_idx)]}', color='white', fontsize='3', weight='semibold', backgroundcolor=color)\n",
    "            plt_text.set_bbox(dict(\n",
    "                facecolor=palette[class_idx],  # background color\n",
    "                alpha=0.6,  # background alpha\n",
    "                edgecolor='none',  # border color\n",
    "                pad=2\n",
    "            ))"
   ]
  },
  {
   "cell_type": "code",
   "execution_count": null,
   "metadata": {},
   "outputs": [],
   "source": []
  }
 ],
 "metadata": {
  "interpreter": {
   "hash": "d4d1e4263499bec80672ea0156c357c1ee493ec2b1c70f0acce89fc37c4a6abe"
  },
  "kernelspec": {
   "display_name": "Python 3.8.5 ('base')",
   "language": "python",
   "name": "python3"
  },
  "language_info": {
   "codemirror_mode": {
    "name": "ipython",
    "version": 3
   },
   "file_extension": ".py",
   "mimetype": "text/x-python",
   "name": "python",
   "nbconvert_exporter": "python",
   "pygments_lexer": "ipython3",
   "version": "3.8.5"
  },
  "orig_nbformat": 4
 },
 "nbformat": 4,
 "nbformat_minor": 2
}
